{
 "cells": [
  {
   "cell_type": "code",
   "execution_count": 1,
   "metadata": {},
   "outputs": [],
   "source": [
    "import os\n",
    "\n",
    "api_token = os.environ[\"LIQUID_EARTH_API_TOKEN\"]"
   ]
  },
  {
   "cell_type": "code",
   "execution_count": 2,
   "metadata": {},
   "outputs": [
    {
     "data": {
      "text/plain": [
       "'le-200fc6e0a15b4663b74dde7125493958lUdjsI7XqKMCFFDS1Nk01mnCqNHZ7nlti44ezWtqOYA'"
      ]
     },
     "execution_count": 2,
     "metadata": {},
     "output_type": "execute_result"
    }
   ],
   "source": [
    "api_token"
   ]
  },
  {
   "cell_type": "code",
   "execution_count": 3,
   "metadata": {},
   "outputs": [
    {
     "name": "stdout",
     "output_type": "stream",
     "text": [
      "Intel MKL WARNING: Support of Intel(R) Streaming SIMD Extensions 4.2 (Intel(R) SSE4.2) enabled only processors has been deprecated. Intel oneAPI Math Kernel Library 2025.0 will require Intel(R) Advanced Vector Extensions (Intel(R) AVX) instructions.\n",
      "Intel MKL WARNING: Support of Intel(R) Streaming SIMD Extensions 4.2 (Intel(R) SSE4.2) enabled only processors has been deprecated. Intel oneAPI Math Kernel Library 2025.0 will require Intel(R) Advanced Vector Extensions (Intel(R) AVX) instructions.\n"
     ]
    }
   ],
   "source": [
    "from liquid_earth_api.api import le_api\n",
    "import os\n",
    "\n",
    "def get_available_spaces():\n",
    "    api_token = os.environ[\"LIQUID_EARTH_API_TOKEN\"]\n",
    "    spaces = le_api.get_available_projects(token=api_token)\n",
    "    print(spaces)\n",
    "    return spaces"
   ]
  },
  {
   "cell_type": "code",
   "execution_count": 4,
   "metadata": {},
   "outputs": [
    {
     "name": "stdout",
     "output_type": "stream",
     "text": [
      "[{'SpaceId': 'bcu6LC/rl3km8fWj7tkwfQ==:Qp6sMU6h9dhrgVaGmWBRn3/u7/b1eqiXwpeCeYTJcYhzUNTQKSnj2R2st8Gsd0Ob', 'OwnerId': 'be6Stn4xmVzNG0c7QjAyEg==:j+H1VQqjIqeYvcwvcS8kJkK6iEVja26cMes6IbPvQlS6YiSTLgo0E1rC7MXid6uP', 'Name': 'Blender Import', 'DisplayedOwner': 'jan.florian.wellmann@gmail.com', 'CreationDate': 'Saturday, 14 December 2024'}, {'SpaceId': 'cYzx8SONcM66nL39ZA3gug==:HpYiHLz89sXd/FCTJF6JyHJDi/NQkrgtQzs64PwyAlqq/PPw342g7zLBQhPd0DKN', 'OwnerId': 'fz2tXlQ0ICIuda4992ni6g==:aXu9T9eQJlxMxGxBjCC4MZ6OXZ454Igwfb6Xj47MdJva1SJDr85P5t6UpNkSME+3', 'Name': 'GemPy', 'DisplayedOwner': 'jan.florian.wellmann@gmail.com', 'CreationDate': 'Saturday, 14 December 2024'}, {'SpaceId': 'b0h4Tu4pMuobJj+gKUlKhQ==:yZE7FXIGWkpkA7T3oQMzCPLj9kI1uet0emMG/dSwP0lKMXx4IvL2X+Lf357Wo1pc', 'OwnerId': 'lo8mi8TZYsD4Ri0Y8bjPPQ==:7+kRVrdTO8+AqcDiqLjNRV/YwfwlwWRFgIj0D6j41csU52rJSSORrZqkGNsXz+a0', 'Name': 'Basic Tutorial', 'DisplayedOwner': 'jan.florian.wellmann@gmail.com', 'CreationDate': 'Saturday, 14 December 2024'}, {'SpaceId': 'n+3upt7GmVKooIpNxIp45A==:vpiKv/JSAyGu/FzCBWkHsaUri0giHkCHM6b14uvTGUiOmKU4q7bAvGGeN8GCcTOM', 'OwnerId': 'nln9bcGgqcIWKfLMZBy6WQ==:1AuHAey8ywVBwFRyulo9ZWbRvb9Gy+mZFJT14J1NmeAcxaKT3fJw8L3Jj6S0f2nE', 'Name': 'Allgaeu', 'DisplayedOwner': 'jan.florian.wellmann@gmail.com', 'CreationDate': 'Tuesday, 10 September 2024'}, {'SpaceId': 'zRTOdrVkQ+NS+XlpvdfLvw==:drFNV3wkVNyWvQg49abqLHvLo3dM7Qyp/M5p1QVTYB9GvkMrjC55Bu4YBxMfW2T8', 'OwnerId': 'ixfEkhHR8yNR2JA+H/UxrA==:9gvxioXUeVNcjVwR9fefVJ6+7nMtTNonEvKUTprrKfKS1wyzVt09srcEhrNJ2i3u', 'Name': 'new_space_name', 'DisplayedOwner': 'GemPy Documentation', 'CreationDate': 'Saturday, 14 December 2024'}]\n"
     ]
    },
    {
     "data": {
      "text/plain": [
       "[{'SpaceId': 'bcu6LC/rl3km8fWj7tkwfQ==:Qp6sMU6h9dhrgVaGmWBRn3/u7/b1eqiXwpeCeYTJcYhzUNTQKSnj2R2st8Gsd0Ob',\n",
       "  'OwnerId': 'be6Stn4xmVzNG0c7QjAyEg==:j+H1VQqjIqeYvcwvcS8kJkK6iEVja26cMes6IbPvQlS6YiSTLgo0E1rC7MXid6uP',\n",
       "  'Name': 'Blender Import',\n",
       "  'DisplayedOwner': 'jan.florian.wellmann@gmail.com',\n",
       "  'CreationDate': 'Saturday, 14 December 2024'},\n",
       " {'SpaceId': 'cYzx8SONcM66nL39ZA3gug==:HpYiHLz89sXd/FCTJF6JyHJDi/NQkrgtQzs64PwyAlqq/PPw342g7zLBQhPd0DKN',\n",
       "  'OwnerId': 'fz2tXlQ0ICIuda4992ni6g==:aXu9T9eQJlxMxGxBjCC4MZ6OXZ454Igwfb6Xj47MdJva1SJDr85P5t6UpNkSME+3',\n",
       "  'Name': 'GemPy',\n",
       "  'DisplayedOwner': 'jan.florian.wellmann@gmail.com',\n",
       "  'CreationDate': 'Saturday, 14 December 2024'},\n",
       " {'SpaceId': 'b0h4Tu4pMuobJj+gKUlKhQ==:yZE7FXIGWkpkA7T3oQMzCPLj9kI1uet0emMG/dSwP0lKMXx4IvL2X+Lf357Wo1pc',\n",
       "  'OwnerId': 'lo8mi8TZYsD4Ri0Y8bjPPQ==:7+kRVrdTO8+AqcDiqLjNRV/YwfwlwWRFgIj0D6j41csU52rJSSORrZqkGNsXz+a0',\n",
       "  'Name': 'Basic Tutorial',\n",
       "  'DisplayedOwner': 'jan.florian.wellmann@gmail.com',\n",
       "  'CreationDate': 'Saturday, 14 December 2024'},\n",
       " {'SpaceId': 'n+3upt7GmVKooIpNxIp45A==:vpiKv/JSAyGu/FzCBWkHsaUri0giHkCHM6b14uvTGUiOmKU4q7bAvGGeN8GCcTOM',\n",
       "  'OwnerId': 'nln9bcGgqcIWKfLMZBy6WQ==:1AuHAey8ywVBwFRyulo9ZWbRvb9Gy+mZFJT14J1NmeAcxaKT3fJw8L3Jj6S0f2nE',\n",
       "  'Name': 'Allgaeu',\n",
       "  'DisplayedOwner': 'jan.florian.wellmann@gmail.com',\n",
       "  'CreationDate': 'Tuesday, 10 September 2024'},\n",
       " {'SpaceId': 'zRTOdrVkQ+NS+XlpvdfLvw==:drFNV3wkVNyWvQg49abqLHvLo3dM7Qyp/M5p1QVTYB9GvkMrjC55Bu4YBxMfW2T8',\n",
       "  'OwnerId': 'ixfEkhHR8yNR2JA+H/UxrA==:9gvxioXUeVNcjVwR9fefVJ6+7nMtTNonEvKUTprrKfKS1wyzVt09srcEhrNJ2i3u',\n",
       "  'Name': 'new_space_name',\n",
       "  'DisplayedOwner': 'GemPy Documentation',\n",
       "  'CreationDate': 'Saturday, 14 December 2024'}]"
      ]
     },
     "execution_count": 4,
     "metadata": {},
     "output_type": "execute_result"
    }
   ],
   "source": [
    "get_available_spaces()"
   ]
  },
  {
   "cell_type": "code",
   "execution_count": 5,
   "metadata": {},
   "outputs": [
    {
     "name": "stdout",
     "output_type": "stream",
     "text": [
      "Setting Backend To: AvailableBackends.numpyIntel MKL WARNING: Support of Intel(R) Streaming SIMD Extensions 4.2 (Intel(R) SSE4.2) enabled only processors has been deprecated. Intel oneAPI Math Kernel Library 2025.0 will require Intel(R) Advanced Vector Extensions (Intel(R) AVX) instructions.\n",
      "\n"
     ]
    }
   ],
   "source": [
    "# Importing GemPy\n",
    "import gempy as gp\n",
    "import gempy_viewer as gpv\n",
    "from gempy import generate_example_model\n",
    "from gempy.core.data.enumerators import ExampleModel"
   ]
  },
  {
   "cell_type": "code",
   "execution_count": 6,
   "metadata": {},
   "outputs": [
    {
     "name": "stdout",
     "output_type": "stream",
     "text": [
      "Surface points hash:  8c72af50fc56389b620c6458a6af23915b121b5e655b3ce179a790636dc529a5\n",
      "Orientations hash:  87cf30b08b5be03b38c5e6d288fa7bb8855263704efb62c7c3cd77673eaae96d\n",
      "Setting Backend To: AvailableBackends.numpyIntel MKL WARNING: Support of Intel(R) Streaming SIMD Extensions 4.2 (Intel(R) SSE4.2) enabled only processors has been deprecated. Intel oneAPI Math Kernel Library 2025.0 will require Intel(R) Advanced Vector Extensions (Intel(R) AVX) instructions.\n",
      "\n",
      "Chunking done: 19 chunks\n",
      "Chunking done: 36 chunks\n",
      "Chunking done: 34 chunks\n",
      "Setting Backend To: AvailableBackends.numpyIntel MKL WARNING: Support of Intel(R) Streaming SIMD Extensions 4.2 (Intel(R) SSE4.2) enabled only processors has been deprecated. Intel oneAPI Math Kernel Library 2025.0 will require Intel(R) Advanced Vector Extensions (Intel(R) AVX) instructions.\n",
      "\n",
      "Chunking done: 19 chunks\n",
      "Chunking done: 36 chunks\n",
      "Chunking done: 34 chunks\n"
     ]
    },
    {
     "data": {
      "text/html": [
       "<b>Solutions:</b> 6 Octree Levels, 8 DualContouringMeshes"
      ],
      "text/plain": [
       "Solutions(6 Octree Levels, 8 DualContouringMeshes)"
      ]
     },
     "execution_count": 6,
     "metadata": {},
     "output_type": "execute_result"
    }
   ],
   "source": [
    "\n",
    "\n",
    "geo_model = generate_example_model(ExampleModel.GRABEN)\n",
    "\n",
    "gp.compute_model(geo_model)"
   ]
  },
  {
   "cell_type": "code",
   "execution_count": 7,
   "metadata": {},
   "outputs": [
    {
     "data": {
      "text/plain": [
       "<xarray.Dataset> Size: 331kB\n",
       "Dimensions:       (XYZ: 3, points: 2932, cell: 5338, nodes: 3, cell_attr: 1,\n",
       "                   vertex_attr: 1)\n",
       "Coordinates:\n",
       "  * XYZ           (XYZ) <U1 12B 'X' 'Y' 'Z'\n",
       "  * points        (points) int64 23kB 0 1 2 3 4 5 ... 2927 2928 2929 2930 2931\n",
       "    cell          (cell) int64 43kB 0 1 2 3 4 5 ... 5333 5334 5335 5336 5337\n",
       "  * cell_attr     (cell_attr) object 8B 'id'\n",
       "  * vertex_attr   (vertex_attr) object 8B 'id'\n",
       "Dimensions without coordinates: nodes\n",
       "Data variables:\n",
       "    vertex        (points, XYZ) float64 70kB -0.04464 -0.3906 ... 0.3906 -0.1294\n",
       "    cells         (cell, nodes) int64 128kB 3 1 2 8 6 ... 2925 2930 2929 2928\n",
       "    cell_attrs    (cell, cell_attr) int64 43kB 1 1 1 1 1 1 1 1 ... 8 8 8 8 8 8 8\n",
       "    vertex_attrs  (points, vertex_attr) int64 23kB 1 1 1 1 1 1 1 ... 8 8 8 8 8 8"
      ]
     },
     "execution_count": 7,
     "metadata": {},
     "output_type": "execute_result"
    }
   ],
   "source": [
    "geo_model.solutions.raw_arrays.meshes_to_subsurface()"
   ]
  },
  {
   "cell_type": "code",
   "execution_count": 11,
   "metadata": {},
   "outputs": [],
   "source": [
    "def upload_mesh_to_new_space(space_name):\n",
    "    api_token = os.environ[\"LIQUID_EARTH_API_TOKEN\"]\n",
    "    response = le_api.upload_mesh_to_new_space(\n",
    "        space_name=space_name,\n",
    "        data=geo_model.solutions.raw_arrays.meshes_to_subsurface(),\n",
    "        file_name=\"new_mesh_file\",\n",
    "        token=api_token)\n",
    "    print(response)"
   ]
  },
  {
   "cell_type": "code",
   "execution_count": 12,
   "metadata": {},
   "outputs": [
    {
     "name": "stdout",
     "output_type": "stream",
     "text": [
      "Error uploading files: too many values to unpack (expected 2)\n",
      "https://liquidearth.app.link/565f4725-ac9e-4978-97c7-9e90364057de\n"
     ]
    }
   ],
   "source": [
    "upload_mesh_to_new_space(\"GemPy-Graben\")"
   ]
  },
  {
   "cell_type": "code",
   "execution_count": 19,
   "metadata": {},
   "outputs": [
    {
     "name": "stdout",
     "output_type": "stream",
     "text": [
      "Surface points hash:  2790bb25dce52b1a99e4a95e3e9dc276a842dbcc863051d0a4cf4169a8de9a6e\n",
      "Orientations hash:  26fda5d7c0a74291d5fa18f880aeb84c106af0b771f95af103a025e4e80c4669\n",
      "Setting Backend To: AvailableBackends.numpy\n",
      "Intel MKL WARNING: Support of Intel(R) Streaming SIMD Extensions 4.2 (Intel(R) SSE4.2) enabled only processors has been deprecated. Intel oneAPI Math Kernel Library 2025.0 will require Intel(R) Advanced Vector Extensions (Intel(R) AVX) instructions.\n"
     ]
    }
   ],
   "source": [
    "geo_model2 = gp.generate_example_model(ExampleModel.ANTICLINE, compute_model=True)"
   ]
  },
  {
   "cell_type": "code",
   "execution_count": 23,
   "metadata": {},
   "outputs": [
    {
     "name": "stdout",
     "output_type": "stream",
     "text": [
      "Error uploading files: too many values to unpack (expected 2)\n"
     ]
    }
   ],
   "source": [
    "foo = le_api.upload_mesh_to_new_space(\n",
    "    space_name=\"new_space_name\",\n",
    "    data=geo_model2.solutions.raw_arrays.meshes_to_subsurface(),\n",
    "    file_name=\"test2\",\n",
    "    token=api_token\n",
    "    )"
   ]
  },
  {
   "cell_type": "code",
   "execution_count": null,
   "metadata": {},
   "outputs": [
    {
     "data": {
      "text/plain": [
       "'2024.2.0.3.dev0+gf344a731.d20240626'"
      ]
     },
     "execution_count": 16,
     "metadata": {},
     "output_type": "execute_result"
    }
   ],
   "source": [
    "gp.__version__"
   ]
  },
  {
   "cell_type": "code",
   "execution_count": 18,
   "metadata": {},
   "outputs": [
    {
     "data": {
      "text/plain": [
       "'le-200fc6e0a15b4663b74dde7125493958lUdjsI7XqKMCFFDS1Nk01mnCqNHZ7nlti44ezWtqOYA'"
      ]
     },
     "execution_count": 18,
     "metadata": {},
     "output_type": "execute_result"
    }
   ],
   "source": [
    "api_token"
   ]
  },
  {
   "cell_type": "code",
   "execution_count": 21,
   "metadata": {},
   "outputs": [
    {
     "data": {
      "text/plain": [
       "<module 'liquid_earth_api.api.le_api' from '/Users/flow/opt/anaconda3/envs/gempy3_pre/lib/python3.10/site-packages/liquid_earth_api/api/le_api.py'>"
      ]
     },
     "execution_count": 21,
     "metadata": {},
     "output_type": "execute_result"
    }
   ],
   "source": [
    "le_api"
   ]
  },
  {
   "cell_type": "code",
   "execution_count": 22,
   "metadata": {},
   "outputs": [
    {
     "data": {
      "text/plain": [
       "'https://liquidearth.app.link/77168f63-3986-4497-adbe-9650ba948643'"
      ]
     },
     "execution_count": 22,
     "metadata": {},
     "output_type": "execute_result"
    }
   ],
   "source": [
    "foo"
   ]
  },
  {
   "cell_type": "code",
   "execution_count": 5,
   "metadata": {},
   "outputs": [
    {
     "name": "stdout",
     "output_type": "stream",
     "text": [
      "Setting Backend To: AvailableBackends.numpyIntel MKL WARNING: Support of Intel(R) Streaming SIMD Extensions 4.2 (Intel(R) SSE4.2) enabled only processors has been deprecated. Intel oneAPI Math Kernel Library 2025.0 will require Intel(R) Advanced Vector Extensions (Intel(R) AVX) instructions.\n",
      "\n"
     ]
    }
   ],
   "source": [
    "import gempy as gp\n",
    "from gempy.core.data.enumerators import ExampleModel\n",
    "from liquid_earth_api.api import le_api\n",
    "import os\n",
    "\n",
    "def upload_mesh_to_new_space(space_name):\n",
    "    api_token = os.environ[\"LIQUID_EARTH_API_TOKEN\"]\n",
    "    model = gp.generate_example_model(ExampleModel.ANTICLINE, compute_model=True)\n",
    "    response = le_api.upload_mesh_to_new_space(\n",
    "        space_name=space_name,\n",
    "        data=model.solutions.raw_arrays.meshes_to_subsurface(),\n",
    "        file_name=\"new_mesh_file\",\n",
    "        token=api_token)\n",
    "    print(response)"
   ]
  },
  {
   "cell_type": "code",
   "execution_count": 6,
   "metadata": {},
   "outputs": [
    {
     "name": "stdout",
     "output_type": "stream",
     "text": [
      "Surface points hash:  2790bb25dce52b1a99e4a95e3e9dc276a842dbcc863051d0a4cf4169a8de9a6e\n",
      "Orientations hash:  26fda5d7c0a74291d5fa18f880aeb84c106af0b771f95af103a025e4e80c4669\n",
      "Setting Backend To: AvailableBackends.numpyIntel MKL WARNING: Support of Intel(R) Streaming SIMD Extensions 4.2 (Intel(R) SSE4.2) enabled only processors has been deprecated. Intel oneAPI Math Kernel Library 2025.0 will require Intel(R) Advanced Vector Extensions (Intel(R) AVX) instructions.\n",
      "\n",
      "Error uploading files: too many values to unpack (expected 2)\n",
      "https://liquidearth.app.link/dc47243c-3f69-473a-924a-1b690c171e00\n"
     ]
    }
   ],
   "source": [
    "upload_mesh_to_new_space(\"test_gempy_API\")\n"
   ]
  },
  {
   "cell_type": "code",
   "execution_count": null,
   "metadata": {},
   "outputs": [],
   "source": []
  }
 ],
 "metadata": {
  "kernelspec": {
   "display_name": "gempy3_pre",
   "language": "python",
   "name": "python3"
  },
  "language_info": {
   "codemirror_mode": {
    "name": "ipython",
    "version": 3
   },
   "file_extension": ".py",
   "mimetype": "text/x-python",
   "name": "python",
   "nbconvert_exporter": "python",
   "pygments_lexer": "ipython3",
   "version": "3.10.12"
  }
 },
 "nbformat": 4,
 "nbformat_minor": 2
}

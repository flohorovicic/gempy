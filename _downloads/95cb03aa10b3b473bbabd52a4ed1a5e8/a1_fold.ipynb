{
  "cells": [
    {
      "cell_type": "code",
      "execution_count": null,
      "metadata": {
        "collapsed": false
      },
      "outputs": [],
      "source": [
        "%matplotlib inline\nfrom pyvista import set_plot_theme\nset_plot_theme('document')"
      ]
    },
    {
      "cell_type": "markdown",
      "metadata": {},
      "source": [
        "\n# Modeling step by step\n\nThis tutorial demonstrates step-by-step geological modeling using the `gempy` and `gempy_viewer` libraries. We will start by importing the necessary packages, loading input data, creating a geological model, and then visualizing the results.\n"
      ]
    },
    {
      "cell_type": "markdown",
      "metadata": {},
      "source": [
        "Import minimal requirements\nWe need to import the `gempy` library for geological modeling and `gempy_viewer` for visualization.\n\n"
      ]
    },
    {
      "cell_type": "code",
      "execution_count": null,
      "metadata": {
        "collapsed": false
      },
      "outputs": [],
      "source": [
        "import gempy as gp\nimport gempy_viewer as gpv"
      ]
    },
    {
      "cell_type": "markdown",
      "metadata": {},
      "source": [
        "Define the path to input data\nHere, we provide two ways to define the path to the input data: using a URL or a local path.\nUncomment the first two lines if you want to use the online data source.\n\n"
      ]
    },
    {
      "cell_type": "code",
      "execution_count": null,
      "metadata": {
        "collapsed": false
      },
      "outputs": [],
      "source": [
        "# data_path = 'https://raw.githubusercontent.com/cgre-aachen/gempy_data/master/'\n# path_to_data = data_path + \"/data/input_data/jan_models/\"\n\n# For this tutorial, we will use the local path:\ndata_path = '../../'\npath_to_data = data_path + \"/data/input_data/jan_models/\""
      ]
    },
    {
      "cell_type": "markdown",
      "metadata": {},
      "source": [
        "Create a GeoModel instance\nWe create a GeoModel instance with a specified project name and extent. \nThe ImporterHelper class is used to specify the paths to the orientation and surface points data.\n\n"
      ]
    },
    {
      "cell_type": "code",
      "execution_count": null,
      "metadata": {
        "collapsed": false
      },
      "outputs": [],
      "source": [
        "geo_model = gp.create_geomodel(\n    project_name='tutorial_model',\n    extent=[0, 2500, 0, 1000, 0, 1110],\n    refinement=4,\n    importer_helper=gp.data.ImporterHelper(\n        path_to_orientations=path_to_data + \"tutorial_model_orientations.csv\",\n        path_to_surface_points=path_to_data + \"tutorial_model_surface_points.csv\"\n    )\n)"
      ]
    },
    {
      "cell_type": "markdown",
      "metadata": {},
      "source": [
        "Displaying simple data cross section\nWe use the `gempy_viewer` to visualize the initial cross-section of our geological model.\n\n"
      ]
    },
    {
      "cell_type": "code",
      "execution_count": null,
      "metadata": {
        "collapsed": false
      },
      "outputs": [],
      "source": [
        "gpv.plot_2d(geo_model)"
      ]
    },
    {
      "cell_type": "markdown",
      "metadata": {},
      "source": [
        "Map geological series to surfaces\nHere, we map the geological series to specific surfaces. This step is crucial for defining the stratigraphic relationships in our model.\n\n"
      ]
    },
    {
      "cell_type": "code",
      "execution_count": null,
      "metadata": {
        "collapsed": false
      },
      "outputs": [],
      "source": [
        "gp.map_stack_to_surfaces(\n    gempy_model=geo_model,\n    mapping_object={\n            \"Strat_Series1\": ('rock3'),\n            \"Strat_Series2\": ('rock2', 'rock1'),\n    }\n)"
      ]
    },
    {
      "cell_type": "markdown",
      "metadata": {},
      "source": [
        "Update transformation and interpolation options\nWe update the model with anisotropy settings and specify various interpolation options to refine the model's accuracy.\n\n"
      ]
    },
    {
      "cell_type": "code",
      "execution_count": null,
      "metadata": {
        "collapsed": false
      },
      "outputs": [],
      "source": [
        "geo_model.update_transform(auto_anisotropy=gp.data.GlobalAnisotropy.CUBE)\n\ninterpolation_options: gp.data.InterpolationOptions = geo_model.interpolation_options"
      ]
    },
    {
      "cell_type": "markdown",
      "metadata": {},
      "source": [
        "Compute the geological model\nWe use the specified backend (in this case, PyTorch) to compute the model.\n\n"
      ]
    },
    {
      "cell_type": "code",
      "execution_count": null,
      "metadata": {
        "collapsed": false
      },
      "outputs": [],
      "source": [
        "gp.compute_model(\n    gempy_model=geo_model,\n    engine_config=gp.data.GemPyEngineConfig(\n        backend=gp.data.AvailableBackends.numpy,\n        dtype=\"float64\"\n    )\n)"
      ]
    },
    {
      "cell_type": "markdown",
      "metadata": {},
      "source": [
        "Visualize the model: 2D cross-section without scalar field\nAfter computing the model, we visualize it again in 2D without the scalar field.\n\n"
      ]
    },
    {
      "cell_type": "code",
      "execution_count": null,
      "metadata": {
        "collapsed": false
      },
      "outputs": [],
      "source": [
        "gpv.plot_2d(geo_model, show_scalar=False, series_n=1)"
      ]
    },
    {
      "cell_type": "markdown",
      "metadata": {},
      "source": [
        "Visualize the model: 2D cross-section with scalar field\nIn this cell, we visualize the 2D cross-section with the scalar field enabled.\n%%\n\n"
      ]
    },
    {
      "cell_type": "code",
      "execution_count": null,
      "metadata": {
        "collapsed": false
      },
      "outputs": [],
      "source": [
        "gpv.plot_2d(geo_model, show_scalar=True, series_n=1)"
      ]
    },
    {
      "cell_type": "markdown",
      "metadata": {},
      "source": [
        "Visualize the model in 3D\nFinally, we create a 3D visualization of the geological model without lithological coloring and image.\n\n"
      ]
    },
    {
      "cell_type": "code",
      "execution_count": null,
      "metadata": {
        "collapsed": false
      },
      "outputs": [],
      "source": [
        "gpv.plot_3d(geo_model, show_lith=False, image=False)\n# sphinx_gallery_thumbnail_number = -1"
      ]
    },
    {
      "cell_type": "markdown",
      "metadata": {},
      "source": [
        "### Coming up next\nAdditional: Manually adding data (optional)\nHere is an example of how you can manually add surface points to the model. Uncomment and modify the code as needed.\n\n"
      ]
    },
    {
      "cell_type": "code",
      "execution_count": null,
      "metadata": {
        "collapsed": false
      },
      "outputs": [],
      "source": [
        "'''\ngp.add_surface_points(\n    geo_model=geo_model,\n    x=[458, 612],\n    y=[0, 0],\n    z=[-107, -14],\n    elements_names=['surface1', 'surface1']\n)\n'''"
      ]
    },
    {
      "cell_type": "markdown",
      "metadata": {},
      "source": [
        "Displaying data cross section (optional)\nYou can re-plot the 2D cross-section if needed.\ngpv.plot_2d(geo_model)\n%%\n\n"
      ]
    }
  ],
  "metadata": {
    "kernelspec": {
      "display_name": "Python 3",
      "language": "python",
      "name": "python3"
    },
    "language_info": {
      "codemirror_mode": {
        "name": "ipython",
        "version": 3
      },
      "file_extension": ".py",
      "mimetype": "text/x-python",
      "name": "python",
      "nbconvert_exporter": "python",
      "pygments_lexer": "ipython3",
      "version": "3.10.12"
    }
  },
  "nbformat": 4,
  "nbformat_minor": 0
}